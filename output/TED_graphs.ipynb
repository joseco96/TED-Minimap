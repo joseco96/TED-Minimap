{
  "cells": [
    {
      "cell_type": "code",
      "execution_count": null,
      "metadata": {
        "id": "51F-IwaHwEly"
      },
      "outputs": [],
      "source": [
        "from cProfile import label\n",
        "import sys\n",
        "import json\n",
        "import math\n",
        "import os\n",
        "import ast\n",
        "\n",
        "import matplotlib.pyplot as plt\n",
        "import numpy as np\n",
        "import pandas as pd\n",
        "import json\n",
        "\n",
        "import matplotlib.pyplot as plt\n",
        "\n",
        "import os\n",
        "import seaborn as sns"
      ]
    },
    {
      "cell_type": "markdown",
      "metadata": {
        "id": "G3Duwo0JyKa7"
      },
      "source": [
        "# `Metrics at Episode Level`\n",
        "\n",
        "The following cells sorth through all the episodes at the team leavel. First they plot the metrics for every episode at team level. Then plot a correlation plote metric vs score.\n",
        "\n",
        "It plots episode 1 vs episode 2 or high vs low score at the global level (averaged).s"
      ]
    },
    {
      "cell_type": "code",
      "execution_count": null,
      "metadata": {
        "id": "boTr9euXw-jz"
      },
      "outputs": [],
      "source": [
        "plt.ioff()\n",
        "\n",
        "directory ='/Users/josecordova/Desktop/Michigan/545/project/TED-Minimap/output/'# '/Users/josecordova/Documents/cmu/TED'\n",
        "\n",
        "scores=[]\n",
        "skills=[]\n",
        "efforts=[]\n",
        "workloads=[]\n",
        "labels = []\n",
        "CIs = []\n",
        "\n",
        "os.chdir(directory)\n",
        "metrics=['Effort','Skill','Workload']\n",
        "df1 =pd.DataFrame(0, index=np.arange(29), columns=metrics)\n",
        "df2 =pd.DataFrame(0, index=np.arange(29), columns=metrics)\n",
        "\n",
        "num_files_ep1 = 0\n",
        "num_files_ep2 = 0\n",
        "\n",
        "file_end = 'High vs low score1' # 'Ep1 vs Ep2 # File termination to save plots according to the filter\n",
        "\n",
        "for name in sorted(os.listdir(directory)):\n",
        "\n",
        "    if not name.endswith(\".csv\") : \n",
        "        continue\n",
        "\n",
        "    df= pd.read_csv(name)\n",
        "\n",
        "    df['score']=50*df['triage_count_red']+df['triage_count_yellow']*30+df['triage_count_green']*10\n",
        "    curr_score=df['score'].sum()\n",
        "    if curr_score >300:#'1' in name[21:24]:   # filter for episode, change commented expression according to high vs low score or ep1 vs ep2\n",
        "        df1['Effort'] +=df['process_effort_s']\n",
        "        df1['Skill'] +=df['process_skill_use_s']\n",
        "        df1['Workload'] +=df['process_workload_burnt']\n",
        "        num_files_ep1 +=1\n",
        "\n",
        "        #continue\n",
        "    \n",
        "    elif curr_score<100: # Change to else if trying to get episode 1 vs ep2\n",
        "        df2['Effort'] +=df['process_effort_s']\n",
        "        df2['Skill'] +=df['process_skill_use_s']\n",
        "        df2['Workload'] +=df['process_workload_burnt']\n",
        "        num_files_ep2 +=1\n",
        "\n",
        "    scores.append(curr_score)\n",
        "\n",
        "    labels.append(name[11:-11])\n",
        "    df['time'] = range(0,10*len(df),10)\n",
        "    workloads.append(df['process_workload_burnt'].sum())\n",
        "    skills.append(df['process_skill_use_s'].sum())\n",
        "    efforts.append(df['process_effort_s'].sum())\n",
        "\n",
        "    df['CI']=df['process_workload_burnt']+df['process_skill_use_s']+df['process_effort_s']\n",
        "    CIs.append(df['CI'].sum())\n",
        "\n",
        "    df.rename(columns = {'process_skill_use_s':'Skill', 'process_effort_s':'Effort','process_workload_burnt':'Workload'}, inplace = True)\n",
        "\n",
        "    plot_labels = ['Workload','Skill','Effort','CI']\n",
        "\n",
        "    for proccess in plot_labels:\n",
        "        plt.figure()\n",
        "        df.plot(y=proccess,x='time')\n",
        "        plt.xlabel('Time(s)')\n",
        "        plt.ylabel(proccess)\n",
        "        plt.title(proccess)\n",
        "        plt.ylim(top=1.5,bottom=0)\n",
        "        plt.savefig(name+proccess+'1.png',facecolor='w')\n",
        "        plt.close()\n",
        "\n"
      ]
    },
    {
      "cell_type": "markdown",
      "metadata": {
        "id": "ntmoF0Tiyz8I"
      },
      "source": [
        "## Global Scatter Plots"
      ]
    },
    {
      "cell_type": "code",
      "execution_count": null,
      "metadata": {
        "id": "W7IbLZkjyyph"
      },
      "outputs": [],
      "source": [
        "\n",
        "\n",
        "colors = [ 'b' , 'c', 'g', 'y', 'm', 'k', 'r', 'peru', 'silver' ]\n",
        "plot_labels = [skills, efforts, workloads, CIs]\n",
        "fig_names=['Skill', 'Effort', 'Workload', 'CI']\n",
        "\n",
        "for i, label in enumerate(plot_labels):\n",
        "  sns.scatterplot(x=label, y=scores, hue=labels)\n",
        "  plt.xlabel(fig_names[i])\n",
        "  plt.ylabel('Score')\n",
        "  plt.title(fig_names[i]+' Correlation')\n",
        "  lgd=plt.legend(loc=(1.04,0), prop={'size': 6},ncol=3)\n",
        "  plt.savefig(fig_names[i]+'1.png', bbox_extra_artists=(lgd,), bbox_inches='tight',facecolor='w')\n"
      ]
    },
    {
      "cell_type": "markdown",
      "metadata": {
        "id": "GjShoroMG3d5"
      },
      "source": [
        "## High vs Low Score or Ep1 vs Ep2\n",
        "\n",
        "1.   List item\n",
        "2.   List item\n",
        "\n"
      ]
    },
    {
      "cell_type": "code",
      "execution_count": null,
      "metadata": {
        "id": "M0Q593I7yuZa"
      },
      "outputs": [],
      "source": [
        "\n",
        "\n",
        "df2 =df2/num_files_ep2\n",
        "df1 =df1/num_files_ep1\n",
        "lims=[1,0.2,0.5]\n",
        "\n",
        "for i, metric in enumerate(metrics):\n",
        "    curr=pd.DataFrame()\n",
        "    curr['High']=df1[metric]\n",
        "    curr['Low']=df2[metric]\n",
        "    curr['time'] = range(0,10*len(df1),10)\n",
        "\n",
        "    plt.figure()\n",
        "    curr.plot(x='time')\n",
        "\n",
        "    plt.xlabel('Time(s)')\n",
        "    plt.ylabel(metric)\n",
        "    plt.title(metric)\n",
        "    plt.ylim(top=lims[i])\n",
        "\n",
        "    plt.savefig(directory+file_end+metric+'1.png',facecolor='w')\n",
        "    plt.close()\n"
      ]
    },
    {
      "cell_type": "markdown",
      "metadata": {
        "id": "uWzVcz2tH_yY"
      },
      "source": [
        "# Role level graphs\n",
        "\n",
        "Graphs the metrics at role level (med vs engineer) within episode and globaly (or filter for number of episode or score).\n",
        "\n",
        "\n"
      ]
    },
    {
      "cell_type": "code",
      "execution_count": null,
      "metadata": {
        "id": "lH52tjYuIJP3"
      },
      "outputs": [],
      "source": [
        "%reset"
      ]
    },
    {
      "cell_type": "code",
      "execution_count": null,
      "metadata": {},
      "outputs": [],
      "source": [
        "from cProfile import label\n",
        "import sys\n",
        "import json\n",
        "import math\n",
        "import os\n",
        "import ast\n",
        "\n",
        "import matplotlib.pyplot as plt\n",
        "import numpy as np\n",
        "import pandas as pd\n",
        "import json\n",
        "\n",
        "import matplotlib.pyplot as plt\n",
        "\n",
        "import os\n",
        "import seaborn as sns"
      ]
    },
    {
      "cell_type": "code",
      "execution_count": null,
      "metadata": {
        "id": "znV9-bWmH-Zd"
      },
      "outputs": [],
      "source": [
        "\n",
        "\n",
        "directory ='/Users/josecordova/Desktop/Michigan/545/project/TED-Minimap/output/'# '/Users/josecordova/Documents/cmu/TED'\n",
        "\n",
        "metrics=['Effort','Skill','Workload']\n",
        "df_eng =pd.DataFrame(0, index=np.arange(25), columns=metrics)\n",
        "df_med =pd.DataFrame(0, index=np.arange(25), columns=metrics)\n",
        "num_meds=0\n",
        "num_engs=0\n",
        "plt.ioff()\n",
        "for name_folder in os.listdir(directory):\n",
        "    if '.' in name_folder: \n",
        "        continue\n",
        "    i=1\n",
        "    directory_2 = directory + name_folder\n",
        "    curr_global = pd.read_csv(directory_2+'_global.csv')\n",
        "    curr_score = 50*curr_global['triage_count_red']+curr_global['triage_count_yellow']*30+curr_global['triage_count_green']*10\n",
        "    curr_score=curr_score.sum()\n",
        "    flag=1\n",
        "    #if curr_score<300:\n",
        "     #   continue\n",
        "    for name in os.listdir(directory_2):\n",
        "\n",
        "        if not name.endswith(\".csv\") : \n",
        "            continue\n",
        "\n",
        "\n",
        "        df = pd.read_csv(directory_2+'/'+name)\n",
        "        if flag==1:\n",
        "            df_effort=pd.DataFrame(0, index=np.arange(len(df)), columns=['Med','Eng'])\n",
        "            df_triage=pd.DataFrame(0, index=np.arange(len(df)), columns=['Med','Eng'])\n",
        "            df_speedup=pd.DataFrame(0, index=np.arange(len(df)), columns=['Med','Eng'])\n",
        "            df_rubble=pd.DataFrame(0, index=np.arange(len(df)), columns=['Med','Eng'])\n",
        "            df_exploration=pd.DataFrame(0, index=np.arange(len(df)), columns=['Med','Eng'])\n",
        "            df_workload=pd.DataFrame(0, index=np.arange(len(df)), columns=['Med','Eng'])\n",
        "            df_skill=pd.DataFrame(0, index=np.arange(len(df)), columns=['Med','Eng'])\n",
        "            flag=0\n",
        "\n",
        "\n",
        "        curr_player = 'player ' + str(i)\n",
        "\n",
        "        if name[0]=='e':\n",
        "            curr= 'Eng'\n",
        "            df_eng['Workload']+=df['workload']\n",
        "            df_eng['Skill']+=df['skill_s']\n",
        "            df_eng['Effort']+=df['effort']\n",
        "            num_engs+=1\n",
        "\n",
        "\n",
        "        else:\n",
        "            curr='Med'\n",
        "            df_med['Workload']+=df['workload']\n",
        "            df_med['Skill']+=df['skill_s']\n",
        "            df_med['Effort']+=df['effort']\n",
        "            num_meds+=1\n",
        "\n",
        "        df_workload[curr]+=df['workload']\n",
        "        df_skill[curr]+=df['skill_s']\n",
        "        df_effort[curr]+=df['effort']\n",
        "        '''\n",
        "        df_exploration[curr]+=df['exploration']\n",
        "\n",
        "        df_triage[curr]+=df['action_triage_s']\n",
        "        df_speedup[curr]+=df['action_speedup_s'] \n",
        "        df_rubble[curr]+=df['action_dig_rubble_s']'''\n",
        "\n",
        "\n",
        "        i+=1\n",
        "    df_effort['time'] = range(0,10*len(df),10)\n",
        "    df_effort[df_effort<0]=0\n",
        "    df_effort.plot(x='time')\n",
        "    plt.xlabel('Time(s)')\n",
        "    plt.ylabel('Effort')\n",
        "    plt.title('Effort')\n",
        "    plt.savefig(directory_2+'/effort_roles1.png',facecolor='w')\n",
        "\n",
        "\n",
        "    df_workload['time'] = range(0,10*len(df),10)\n",
        "\n",
        "    df_workload.plot(x='time')\n",
        "    plt.xlabel('Time(s)')\n",
        "    plt.ylabel('Workload')\n",
        "    plt.title('Workload')\n",
        "\n",
        "    plt.savefig(directory_2+'/workload_roles1.png',facecolor='w')\n",
        "    df_skill['time'] = range(0,10*len(df),10)\n",
        "\n",
        "    df_skill.plot(x='time')\n",
        "    plt.xlabel('Time(s)')\n",
        "    plt.ylabel('Skill (s)')\n",
        "    plt.title('Skill')\n",
        "\n",
        "    plt.savefig(directory_2+'/skill_roles1.png',facecolor='w',facecolor='w')\n",
        "\n",
        "\n",
        "df_eng['time'] = range(0,10*len(df_eng),10)\n",
        "df_med['time'] = range(0,10*len(df_eng),10)\n",
        "\n",
        "df_med=df_med/num_meds\n",
        "df_eng=df_eng/num_engs\n",
        "\n",
        "lims=[1,0.2,0.5]\n",
        "i=0\n",
        "for metric in metrics:\n",
        "    curr=pd.DataFrame()\n",
        "    curr['Medic']=df_med[metric]\n",
        "    curr['Eng.']=df_eng[metric]\n",
        "    curr['time'] = range(0,10*len(df_eng),10)\n",
        "\n",
        "    plt.figure()\n",
        "    curr.plot(x='time')\n",
        "\n",
        "    plt.xlabel('Time(s)')\n",
        "    plt.ylabel(metric)\n",
        "    plt.title(metric )\n",
        "    plt.ylim(top=lims[i])\n",
        "\n",
        "    plt.savefig(directory+'Med vs Eng '+metric+'1.png',facecolor='w')\n",
        "    plt.close()\n",
        "    i+=1\n"
      ]
    }
  ],
  "metadata": {
    "colab": {
      "collapsed_sections": [],
      "name": "TED_graphs.ipynb",
      "provenance": []
    },
    "kernelspec": {
      "display_name": "Python 3.8.5 ('Research')",
      "language": "python",
      "name": "python3"
    },
    "language_info": {
      "codemirror_mode": {
        "name": "ipython",
        "version": 3
      },
      "file_extension": ".py",
      "mimetype": "text/x-python",
      "name": "python",
      "nbconvert_exporter": "python",
      "pygments_lexer": "ipython3",
      "version": "3.8.5"
    },
    "vscode": {
      "interpreter": {
        "hash": "baa31867809ad772c421b66647daf6b2e136571df84511325aedafc40140b6dc"
      }
    }
  },
  "nbformat": 4,
  "nbformat_minor": 0
}
